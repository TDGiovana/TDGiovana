{
  "cells": [
    {
      "cell_type": "markdown",
      "metadata": {
        "id": "view-in-github",
        "colab_type": "text"
      },
      "source": [
        "<a href=\"https://colab.research.google.com/github/TDGiovana/TDGiovana/blob/main/Conhe%C3%A7a_o_Colab.ipynb\" target=\"_parent\"><img src=\"https://colab.research.google.com/assets/colab-badge.svg\" alt=\"Open In Colab\"/></a>"
      ]
    },
    {
      "cell_type": "markdown",
      "source": [
        "Aluna: Giovana Temóteo\n",
        "\n",
        "\n",
        "Curso: ADS\n",
        "\n",
        "\n",
        "\n",
        "\n",
        "\n",
        "![images.png](data:image/png;base64,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)"
      ],
      "metadata": {
        "id": "0jAOmddFvcvt"
      }
    },
    {
      "cell_type": "markdown",
      "source": [
        "1. Escreva um programa que apresente na tela a frase: \"Meu primeiro programa!!!\""
      ],
      "metadata": {
        "id": "l_9pP9X2v2Iy"
      }
    },
    {
      "cell_type": "code",
      "source": [
        "print(\"Meu primeiro programa!!!\")"
      ],
      "metadata": {
        "id": "XIItcEGcwWyQ",
        "outputId": "308b59e9-bdb8-4da9-d5da-13ecefed8e4b",
        "colab": {
          "base_uri": "https://localhost:8080/"
        }
      },
      "execution_count": 1,
      "outputs": [
        {
          "output_type": "stream",
          "name": "stdout",
          "text": [
            "Meu primeiro programa!!!\n"
          ]
        }
      ]
    },
    {
      "cell_type": "markdown",
      "source": [
        "2. Escreva um programa que solicite ao usuário um número inteiro e ao final apresente na tela\n",
        "o número informado pelo usuário do programa"
      ],
      "metadata": {
        "id": "9GhnYoVawd0Q"
      }
    },
    {
      "cell_type": "code",
      "source": [
        "numero_inteiro = int(input(\"Digite um número inteiro:\"))\n",
        "print(\"\",numero_inteiro)"
      ],
      "metadata": {
        "id": "kDlHJZvswg2Q",
        "outputId": "c247dbf8-e6f8-476a-e488-3dc7ee2a8aa2",
        "colab": {
          "base_uri": "https://localhost:8080/"
        }
      },
      "execution_count": 11,
      "outputs": [
        {
          "output_type": "stream",
          "name": "stdout",
          "text": [
            "Digite um número inteiro:2\n",
            " 2\n"
          ]
        }
      ]
    },
    {
      "cell_type": "markdown",
      "source": [
        "3. Escreva um programa que solicite ao usuário um número inteiro e ao final apresente na tela\n",
        "o número informado da seguinte forma: \"Foi informado o valor: X\""
      ],
      "metadata": {
        "id": "1D5vvquay-_G"
      }
    },
    {
      "cell_type": "code",
      "source": [
        "numero_inteiro = int(input(\"Digite um número inteiro:\"))\n",
        "print(\"Foi informado o valor:\",numero_inteiro)"
      ],
      "metadata": {
        "id": "FgBo5PkGzDqM",
        "outputId": "41ce89b9-38e6-4fc9-be9d-c7a547da32a5",
        "colab": {
          "base_uri": "https://localhost:8080/"
        }
      },
      "execution_count": 16,
      "outputs": [
        {
          "output_type": "stream",
          "name": "stdout",
          "text": [
            "Digite um número inteiro:2\n",
            "Foi informado o valor: 2\n"
          ]
        }
      ]
    },
    {
      "cell_type": "markdown",
      "source": [
        "4. Escreva um programa que solicite ao usuário dois números inteiros e ao final apresente na\n",
        "tela os dois números informados da seguinte forma: \"Voce informou os numeros X e Y\""
      ],
      "metadata": {
        "id": "3MIdaTuSztmt"
      }
    },
    {
      "cell_type": "code",
      "source": [
        "num1 = int(input(\"Digite o primeiro número inteiro:\"))\n",
        "num2 = int(input(\"Digite o segundo número número inteiro:\"))\n",
        "print(\"Você informou os números: \",num1, \"e\" ,num2)"
      ],
      "metadata": {
        "id": "4wGtwP47zxTv",
        "outputId": "025baf1b-53ac-4dbd-d88e-67652b1c9209",
        "colab": {
          "base_uri": "https://localhost:8080/"
        }
      },
      "execution_count": 25,
      "outputs": [
        {
          "output_type": "stream",
          "name": "stdout",
          "text": [
            "Digite o primeiro número inteiro:2\n",
            "Digite o segundo número número inteiro:2\n",
            "Você informou os números:  2 e 2\n"
          ]
        }
      ]
    },
    {
      "cell_type": "markdown",
      "source": [],
      "metadata": {
        "id": "ByH2MdcR4BNu"
      }
    },
    {
      "cell_type": "markdown",
      "source": [
        "5. Escreva um programa que solicite ao usuário um número real e ao final apresente na tela o\n",
        "número informado formatado com duas casas decimais da seguinte forma: \"Voce informou\n",
        "o numero X.YY\""
      ],
      "metadata": {
        "id": "1HiBA7Lz3vSm"
      }
    },
    {
      "cell_type": "code",
      "source": [
        "numero_real = float(input(\"Digite um número real: \"))\n",
        "print(f\"Voce informou o numero {numero_real:.2f}\")"
      ],
      "metadata": {
        "id": "VzsnIGwu4Gfj",
        "outputId": "4ca615cc-700e-401d-e50f-d254341ab4fa",
        "colab": {
          "base_uri": "https://localhost:8080/"
        }
      },
      "execution_count": 31,
      "outputs": [
        {
          "output_type": "stream",
          "name": "stdout",
          "text": [
            "Digite um número real: 2\n",
            "Voce informou o numero 2.00\n"
          ]
        }
      ]
    },
    {
      "cell_type": "markdown",
      "source": [
        "6. Escreva um programa que solicite ao usuário a temperatura em graus Celsius e ao final\n",
        "apresente a temperatura correspondente em graus Farenheit. F = Celsius * 1.8 + 32\n"
      ],
      "metadata": {
        "id": "q2lYyppA_kN3"
      }
    },
    {
      "cell_type": "code",
      "source": [
        "celsius = float(input(\"Digite a temperatura em graus Celsius: \"))\n",
        "fahrenheit = celsius * 1.8 + 32\n",
        "print(f\"A temperatura em Fahrenheit é: {fahrenheit:.2f}\")"
      ],
      "metadata": {
        "id": "24C5KUT__sA9",
        "outputId": "9f142c0d-985e-4476-f8b9-4fb63e8c47f5",
        "colab": {
          "base_uri": "https://localhost:8080/"
        }
      },
      "execution_count": 32,
      "outputs": [
        {
          "output_type": "stream",
          "name": "stdout",
          "text": [
            "Digite a temperatura em graus Celsius: 2\n",
            "A temperatura em Fahrenheit é: 35.60\n"
          ]
        }
      ]
    },
    {
      "cell_type": "markdown",
      "source": [
        "7. Escreva um programa que solicite ao usuário um número inteiro e um número real e ao final\n",
        "apresente na tela os dois números informados formatando com duas casas decimais\n",
        "somente o número real da seguinte forma: \"Voce informou os numeros N e X.YY\""
      ],
      "metadata": {
        "id": "HAqMx-3x_3wv"
      }
    },
    {
      "cell_type": "code",
      "source": [
        "numero_inteiro = int(input(\"Digite um número inteiro: \"))\n",
        "numero_real = float(input(\"Digite um número real: \"))\n",
        "print(f\"Voce informou os numeros {numero_inteiro} e {numero_real:.2f}\")"
      ],
      "metadata": {
        "id": "kdHztdQN_5Dp",
        "outputId": "83fc7853-737a-4558-9135-2b9daff8c3a3",
        "colab": {
          "base_uri": "https://localhost:8080/"
        }
      },
      "execution_count": 33,
      "outputs": [
        {
          "output_type": "stream",
          "name": "stdout",
          "text": [
            "Digite um número inteiro: 2\n",
            "Digite um número real: 3\n",
            "Voce informou os numeros 2 e 3.00\n"
          ]
        }
      ]
    },
    {
      "cell_type": "markdown",
      "source": [
        "8. Escreva um programa que solicite ao usuário a primeira letra de seu nome e ao final\n",
        "apresente na tela a letra informada pelo usuário da seguinte forma: \"Voce digitou w\""
      ],
      "metadata": {
        "id": "B5tAA4z7AAet"
      }
    },
    {
      "cell_type": "code",
      "source": [
        "letra = input(\"Digite a primeira letra do seu nome: \")\n",
        "print(f\"Voce digitou {letra}\")"
      ],
      "metadata": {
        "id": "4d6SE-hsAHG9",
        "outputId": "9a5e2f91-2fac-43c5-bc90-1e21045fee5b",
        "colab": {
          "base_uri": "https://localhost:8080/"
        }
      },
      "execution_count": 34,
      "outputs": [
        {
          "output_type": "stream",
          "name": "stdout",
          "text": [
            "Digite a primeira letra do seu nome: G\n",
            "Voce digitou G\n"
          ]
        }
      ]
    },
    {
      "cell_type": "markdown",
      "source": [
        "9. Escreva um programa que solicite ao usuário o nome de sua cor preferida e ao final\n",
        "apresente na tela a cor informada pelo usuário da seguinte forma: \"Voce gosta da cor AAA\""
      ],
      "metadata": {
        "id": "SC2Kmsi2AQe3"
      }
    },
    {
      "cell_type": "code",
      "source": [
        "cor = input(\"Digite o nome da sua cor preferida: \")\n",
        "print(f\"Voce gosta da cor {cor}\")"
      ],
      "metadata": {
        "id": "xwuIr0YLAYX6",
        "outputId": "6ca2e2f0-ce4d-4d4a-de83-875aa30ef363",
        "colab": {
          "base_uri": "https://localhost:8080/"
        }
      },
      "execution_count": 35,
      "outputs": [
        {
          "output_type": "stream",
          "name": "stdout",
          "text": [
            "Digite o nome da sua cor preferida: azul\n",
            "Voce gosta da cor azul\n"
          ]
        }
      ]
    },
    {
      "cell_type": "markdown",
      "source": [
        "0. Escreva um programa que solicite ao usuário o nome de uma verdura e uma fruta de sua\n",
        "preferencia e ao final apresente na tela as informações digitadas pelo usuário da seguinte\n",
        "forma: \"Voce gosta de AAAAAAA e BBBBBBB\n"
      ],
      "metadata": {
        "id": "KLQBqLrWAcR0"
      }
    },
    {
      "cell_type": "code",
      "source": [
        "verdura = input(\"Digite o nome de uma verdura de sua preferência: \")\n",
        "fruta = input(\"Digite o nome de uma fruta de sua preferência: \")\n",
        "print(f\"Voce gosta de {verdura} e {fruta}\")"
      ],
      "metadata": {
        "id": "i4yRtJhCAgPF",
        "outputId": "154b21c5-15b4-4e51-b96e-6fa42138e3e1",
        "colab": {
          "base_uri": "https://localhost:8080/"
        }
      },
      "execution_count": 36,
      "outputs": [
        {
          "output_type": "stream",
          "name": "stdout",
          "text": [
            "Digite o nome de uma verdura de sua preferência: cenoura\n",
            "Digite o nome de uma fruta de sua preferência: tomate\n",
            "Voce gosta de cenoura e tomate\n"
          ]
        }
      ]
    },
    {
      "cell_type": "markdown",
      "source": [
        "11. Elabore um algoritmo que solicite ao usuário um número real e ao final imprima na tela o\n",
        "numero informado e na linha de baixo o dobro deste número da seguinte forma:\n",
        "Numero -> X\n",
        "Dobro deste numero -> Y"
      ],
      "metadata": {
        "id": "t_0HIjFrAnw7"
      }
    },
    {
      "cell_type": "code",
      "source": [
        "numero = float(input(\"Digite um número real: \"))\n",
        "dobro = numero * 2\n",
        "print(f\"Numero -> {numero}\\nDobro deste numero -> {dobro}\")"
      ],
      "metadata": {
        "id": "wBGbEms9AroZ",
        "outputId": "8b2d5666-5525-4f0f-9937-87b77c03935d",
        "colab": {
          "base_uri": "https://localhost:8080/"
        }
      },
      "execution_count": 37,
      "outputs": [
        {
          "output_type": "stream",
          "name": "stdout",
          "text": [
            "Digite um número real: 1\n",
            "Numero -> 1.0\n",
            "Dobro deste numero -> 2.0\n"
          ]
        }
      ]
    },
    {
      "cell_type": "markdown",
      "source": [
        "12. Reescrever o programa anterior apresentando o quadrado e o cubo do número informado"
      ],
      "metadata": {
        "id": "CFt6oXuRAw7G"
      }
    },
    {
      "cell_type": "code",
      "source": [
        "numero = float(input(\"Digite um número real: \"))\n",
        "quadrado = numero ** 2\n",
        "cubo = numero ** 3\n",
        "print(f\"Numero -> {numero}\\nQuadrado deste numero -> {quadrado}\\nCubo deste numero -> {cubo}\")\n"
      ],
      "metadata": {
        "id": "6PtxkHGEA2fy"
      },
      "execution_count": null,
      "outputs": []
    },
    {
      "cell_type": "markdown",
      "source": [
        "13. Escreva um programa que solicite ao usuário dois números inteiros e ao final apresente\n",
        "na tela a soma dos dois números informados da seguinte forma: \"O numeros N e X\n",
        "somados correspondem a Y"
      ],
      "metadata": {
        "id": "iYpkjFlmA5B7"
      }
    },
    {
      "cell_type": "code",
      "source": [
        "num1 = int(input(\"Digite o primeiro número inteiro: \"))\n",
        "num2 = int(input(\"Digite o segundo número inteiro: \"))\n",
        "soma = num1 + num2\n",
        "print(f\"O números {num1} e {num2} somados correspondem a {soma}\")"
      ],
      "metadata": {
        "id": "Pbh2a7upA6-q",
        "outputId": "e16f741f-3f78-403d-aae7-b88b9e7a1c87",
        "colab": {
          "base_uri": "https://localhost:8080/"
        }
      },
      "execution_count": 38,
      "outputs": [
        {
          "output_type": "stream",
          "name": "stdout",
          "text": [
            "Digite o primeiro número inteiro: 1\n",
            "Digite o segundo número inteiro: 2\n",
            "O números 1 e 2 somados correspondem a 3\n"
          ]
        }
      ]
    },
    {
      "cell_type": "markdown",
      "source": [
        "14. Escreva um programa que solicite ao usuário dois números reais e ao final apresente na\n",
        "tela o produto dos dois números informados da seguinte forma: \"O produto dos numeros N\n",
        "e X corresponde a Y\""
      ],
      "metadata": {
        "id": "M2ch3ZiyBWbH"
      }
    },
    {
      "cell_type": "code",
      "source": [
        "num1 = float(input(\"Digite o primeiro número real: \"))\n",
        "num2 = float(input(\"Digite o segundo número real: \"))\n",
        "produto = num1 * num2\n",
        "print(f\"O produto dos números {num1} e {num2} corresponde a {produto}\")"
      ],
      "metadata": {
        "id": "DnY_cX0MBgvf"
      },
      "execution_count": null,
      "outputs": []
    },
    {
      "cell_type": "markdown",
      "source": [
        "15. Refazer o programa 14 realizando as quatro operações aritméticas básicas"
      ],
      "metadata": {
        "id": "AUmg_O7SBosv"
      }
    },
    {
      "cell_type": "code",
      "source": [
        "num1 = float(input(\"Digite o primeiro número real: \"))\n",
        "num2 = float(input(\"Digite o segundo número real: \"))\n",
        "\n",
        "soma = num1 + num2\n",
        "subtracao = num1 - num2\n",
        "produto = num1 * num2\n",
        "divisao = num1 / num2\n",
        "\n",
        "print(f\"Soma: {soma:.2f}\")\n",
        "print(f\"Subtração: {subtracao:.2f}\")\n",
        "print(f\"Produto: {produto:.2f}\")\n",
        "print(f\"Divisão: {divisao:.2f}\")"
      ],
      "metadata": {
        "id": "tD5wI1TlBrg5",
        "outputId": "f2f693f1-8e63-49f1-da22-9162d134691d",
        "colab": {
          "base_uri": "https://localhost:8080/"
        }
      },
      "execution_count": 40,
      "outputs": [
        {
          "output_type": "stream",
          "name": "stdout",
          "text": [
            "Digite o primeiro número real: 2\n",
            "Digite o segundo número real: 2\n",
            "Soma: 4.00\n",
            "Subtração: 0.00\n",
            "Produto: 4.00\n",
            "Divisão: 1.00\n"
          ]
        }
      ]
    },
    {
      "cell_type": "markdown",
      "source": [
        "Escreva um programa que solicite o valor fixo do salário de um vendedor, o total vendido\n",
        "no mês e o percentual de comissão do vendedor. Ao final apresentar o salário bruto."
      ],
      "metadata": {
        "id": "HDnATvU6CRsR"
      }
    },
    {
      "cell_type": "code",
      "source": [
        "# Solicita o salário fixo do vendedor\n",
        "salario_fixo = float(input(\"Digite o salário fixo do vendedor: \"))\n",
        "\n",
        "# Solicita o total de vendas que o vendedor realizou no mês\n",
        "total_vendas = float(input(\"Digite o total de vendas realizadas no mês: \"))\n",
        "\n",
        "# Solicita a porcentagem da comissão\n",
        "percentual_comissao = float(input(\"Digite o percentual da comissão (ex: 5 para 5%): \"))\n",
        "\n",
        "# Calcula o valor da comissão (total de vendas * percentual / 100)\n",
        "comissao = total_vendas * (percentual_comissao / 100)\n",
        "\n",
        "# Calcula o salário total (salário fixo + comissão)\n",
        "salario_total = salario_fixo + comissao\n",
        "\n",
        "# Apresenta os resultados de forma clara\n",
        "print(\"-\" * 30) # Linha divisória para melhor visualização\n",
        "print(f\"Salário Fixo: R$ {salario_fixo:.2f}\")\n",
        "print(f\"Total de Vendas: R$ {total_vendas:.2f}\")\n",
        "print(f\"Comissão ({percentual_comissao}%): R$ {comissao:.2f}\")\n",
        "print(\"-\" * 30)\n",
        "print(f\"Salário Total: R$ {salario_total:.2f}\")"
      ],
      "metadata": {
        "id": "QjyTmTFICVPA",
        "outputId": "4715f7f7-c36d-484b-ef48-32805bc80cae",
        "colab": {
          "base_uri": "https://localhost:8080/"
        }
      },
      "execution_count": 41,
      "outputs": [
        {
          "output_type": "stream",
          "name": "stdout",
          "text": [
            "Digite o salário fixo do vendedor: 1500\n",
            "Digite o total de vendas realizadas no mês: 37\n",
            "Digite o percentual da comissão (ex: 5 para 5%): 3\n",
            "------------------------------\n",
            "Salário Fixo: R$ 1500.00\n",
            "Total de Vendas: R$ 37.00\n",
            "Comissão (3.0%): R$ 1.11\n",
            "------------------------------\n",
            "Salário Total: R$ 1501.11\n"
          ]
        }
      ]
    },
    {
      "cell_type": "markdown",
      "source": [],
      "metadata": {
        "id": "-9kIaPqRCvS9"
      }
    }
  ],
  "metadata": {
    "colab": {
      "name": "Conheça o Colab",
      "provenance": [],
      "include_colab_link": true
    },
    "kernelspec": {
      "display_name": "Python 3",
      "name": "python3"
    }
  },
  "nbformat": 4,
  "nbformat_minor": 0
}