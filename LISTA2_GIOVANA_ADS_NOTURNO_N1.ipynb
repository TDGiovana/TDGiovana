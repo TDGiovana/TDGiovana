{
  "cells": [
    {
      "cell_type": "markdown",
      "metadata": {
        "id": "view-in-github",
        "colab_type": "text"
      },
      "source": [
        "<a href=\"https://colab.research.google.com/github/TDGiovana/TDGiovana/blob/main/LISTA2_GIOVANA_ADS_NOTURNO_N1.ipynb\" target=\"_parent\"><img src=\"https://colab.research.google.com/assets/colab-badge.svg\" alt=\"Open In Colab\"/></a>"
      ]
    },
    {
      "cell_type": "markdown",
      "source": [
        "Aluna: Giovana Temóteo\n",
        "\n",
        "\n",
        "Curso: ADS\n",
        "\n",
        "\n",
        "\n",
        "![download.png](data:image/png;base64,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)\n",
        "\n"
      ],
      "metadata": {
        "id": "FL3m0Gwdsbbu"
      },
      "id": "FL3m0Gwdsbbu"
    },
    {
      "cell_type": "markdown",
      "source": [
        " 1. Elabore um programa que solicite ao usuário um número real e ao final imprima na tela se o\n",
        "número informado é maior que 10 (dez)"
      ],
      "metadata": {
        "id": "Ldj07l_Vs2qf"
      },
      "id": "Ldj07l_Vs2qf"
    },
    {
      "cell_type": "code",
      "source": [
        "numero = float(input(\"Digite um número real: \"))\n",
        "\n",
        "if numero > 10:\n",
        "    print(f\"O número {numero} é maior que 10.\")\n",
        "else:\n",
        "    print(f\"O número {numero} não é maior que 10.\")"
      ],
      "metadata": {
        "id": "WZLgB-acs-rl",
        "outputId": "6a6e53e6-9d1c-4621-e3e1-f9e4401151c2",
        "colab": {
          "base_uri": "https://localhost:8080/"
        }
      },
      "id": "WZLgB-acs-rl",
      "execution_count": null,
      "outputs": [
        {
          "output_type": "stream",
          "name": "stdout",
          "text": [
            "Digite um número real: 22\n",
            "O número 22.0 é maior que 10.\n"
          ]
        }
      ]
    },
    {
      "cell_type": "markdown",
      "source": [
        "2. Escreva um programa que solicite ao usuário um número real e ao final imprima na tela se\n",
        "o número informado é maior ou igual a dez ou menor que 10 (dez)"
      ],
      "metadata": {
        "id": "Hn1J7iUZtb5R"
      },
      "id": "Hn1J7iUZtb5R"
    },
    {
      "cell_type": "code",
      "source": [
        "numero = float(input(\"Digite um número real: \"))\n",
        "\n",
        "if numero >= 10:\n",
        "    print(f\"O número {numero} é maior ou igual a 10.\")\n",
        "else:\n",
        "    print(f\"O número {numero} é menor que 10.\")"
      ],
      "metadata": {
        "id": "xX2zQnD0tebI",
        "outputId": "72219d52-9c00-48c4-e585-da758b0babc9",
        "colab": {
          "base_uri": "https://localhost:8080/"
        }
      },
      "id": "xX2zQnD0tebI",
      "execution_count": null,
      "outputs": [
        {
          "output_type": "stream",
          "name": "stdout",
          "text": [
            "Digite um número real: 10\n",
            "O número 10.0 é maior ou igual a 10.\n"
          ]
        }
      ]
    },
    {
      "cell_type": "markdown",
      "source": [
        "3. Elabore um algoritmo que solicite ao usuário um número real e ao final imprima na tela se o\n",
        "número informado é maior que dez, se é menor que dez, ou se é igual a dez"
      ],
      "metadata": {
        "id": "bcXpp2gytq_K"
      },
      "id": "bcXpp2gytq_K"
    },
    {
      "cell_type": "code",
      "source": [
        "numero = float(input(\"Digite um número real: \"))\n",
        "\n",
        "if numero > 10:\n",
        "    print(f\"O número {numero} é maior que 10.\")\n",
        "elif numero < 10:\n",
        "    print(f\"O número {numero} é menor que 10.\")\n",
        "else:\n",
        "    print(f\"O número {numero} é igual a 10.\")"
      ],
      "metadata": {
        "id": "Q60MgjGztuRT",
        "outputId": "b0147677-3c11-44cd-c295-ace763763315",
        "colab": {
          "base_uri": "https://localhost:8080/"
        }
      },
      "id": "Q60MgjGztuRT",
      "execution_count": null,
      "outputs": [
        {
          "output_type": "stream",
          "name": "stdout",
          "text": [
            "Digite um número real: 10\n",
            "O número 10.0 é igual a 10.\n"
          ]
        }
      ]
    },
    {
      "cell_type": "markdown",
      "source": [
        "4. Elabore um algoritmo que solicite ao usuário um número real e ao final imprima na tela se o\n",
        "número informado é positivo, negativo ou nulo (zero)"
      ],
      "metadata": {
        "id": "6uspSrBxt6bJ"
      },
      "id": "6uspSrBxt6bJ"
    },
    {
      "cell_type": "code",
      "source": [
        "numero = float(input(\"Digite um número real: \"))\n",
        "\n",
        "if numero > 0:\n",
        "    print(f\"O número {numero} é positivo.\")\n",
        "elif numero < 0:\n",
        "    print(f\"O número {numero} é negativo.\")\n",
        "else:\n",
        "    print(f\"O número {numero} é nulo (zero).\")"
      ],
      "metadata": {
        "id": "a_RkXJdquDIF",
        "outputId": "bb5eec16-e1f6-4663-cc74-190cc8d240e3",
        "colab": {
          "base_uri": "https://localhost:8080/"
        }
      },
      "id": "a_RkXJdquDIF",
      "execution_count": null,
      "outputs": [
        {
          "output_type": "stream",
          "name": "stdout",
          "text": [
            "Digite um número real: -1\n",
            "O número -1.0 é negativo.\n"
          ]
        }
      ]
    },
    {
      "cell_type": "markdown",
      "source": [
        "5. Elabore um algoritmo que leia um número inteiro e imprima uma das mensagens: é múltiplo\n",
        "de 3, ou, não é múltiplo de 3"
      ],
      "metadata": {
        "id": "jjxnnbcwuKBS"
      },
      "id": "jjxnnbcwuKBS"
    },
    {
      "cell_type": "code",
      "source": [
        "numero = int(input(\"Digite um número inteiro: \"))\n",
        "\n",
        "if numero % 3 == 0:\n",
        "    print(f\"O número {numero} é múltiplo de 3.\")\n",
        "else:\n",
        "    print(f\"O número {numero} não é múltiplo de 3.\")"
      ],
      "metadata": {
        "id": "kEEVNJvNuM1H"
      },
      "id": "kEEVNJvNuM1H",
      "execution_count": null,
      "outputs": []
    },
    {
      "cell_type": "markdown",
      "source": [
        "Refazer o exercício anterior, solicitando antes o múltiplo a ser testado"
      ],
      "metadata": {
        "id": "pzia2MoAuVxZ"
      },
      "id": "pzia2MoAuVxZ"
    },
    {
      "cell_type": "code",
      "source": [
        "numero = int(input(\"Digite o número inteiro a ser testado: \"))\n",
        "multiplo = int(input(\"Digite o múltiplo para a verificação: \"))\n",
        "\n",
        "if multiplo == 0:\n",
        "\n",
        "    print(\"O múltiplo deve ser um número diferente de zero para a verificação.\")\n",
        "elif numero % multiplo == 0:\n",
        "    print(f\"O número {numero} é múltiplo de {multiplo}.\")\n",
        "else:\n",
        "    print(f\"O número {numero} não é múltiplo de {multiplo}.\")"
      ],
      "metadata": {
        "id": "OcAX7iJuuZ2H",
        "outputId": "e19413c9-9e3d-4a49-e7f7-7f7b103bb25d",
        "colab": {
          "base_uri": "https://localhost:8080/"
        }
      },
      "id": "OcAX7iJuuZ2H",
      "execution_count": null,
      "outputs": [
        {
          "output_type": "stream",
          "name": "stdout",
          "text": [
            "Digite o número inteiro a ser testado: 3\n",
            "Digite o múltiplo para a verificação: 4\n",
            "O número 3 não é múltiplo de 4.\n"
          ]
        }
      ]
    },
    {
      "cell_type": "markdown",
      "source": [
        "7. Desenvolva um algoritmo que classifique um número inteiro fornecido pelo usuário como\n",
        "par ou ímpar"
      ],
      "metadata": {
        "id": "iDq2rfrHu5gH"
      },
      "id": "iDq2rfrHu5gH"
    },
    {
      "cell_type": "code",
      "source": [
        "numero = int(input(\"Digite um número inteiro: \"))\n",
        "\n",
        "if numero % 2 == 0:\n",
        "    print(f\"O número {numero} é par.\")\n",
        "else:\n",
        "    print(f\"O número {numero} é ímpar.\")"
      ],
      "metadata": {
        "id": "6xO5LBgdu8v3"
      },
      "id": "6xO5LBgdu8v3",
      "execution_count": null,
      "outputs": []
    },
    {
      "cell_type": "markdown",
      "source": [
        "8. Elabore um algoritmo que leia um número, e se ele for maior do que 20, imprimir a metade\n",
        "desse número, caso contrário, imprimir o dobro do número"
      ],
      "metadata": {
        "id": "g9Rl-00VvEbm"
      },
      "id": "g9Rl-00VvEbm"
    },
    {
      "cell_type": "code",
      "source": [
        "numero = float(input(\"Digite um número real: \"))\n",
        "\n",
        "if numero > 20:\n",
        "    resultado = numero / 2\n",
        "    print(f\"O número {numero} é maior que 20. A metade é: {resultado}\")\n",
        "else:\n",
        "    resultado = numero * 2\n",
        "    print(f\"O número {numero} não é maior que 20. O dobro é: {resultado}\")"
      ],
      "metadata": {
        "id": "aYGZaeL1vH8w"
      },
      "id": "aYGZaeL1vH8w",
      "execution_count": null,
      "outputs": []
    },
    {
      "cell_type": "markdown",
      "source": [
        "9. labore um algoritmo que leia dois números inteiros e realize a adição; caso o resultado\n",
        "seja maior que 10, imprima o quadrado do resultado, caso contrário, imprima a metade dele"
      ],
      "metadata": {
        "id": "h7PKtyQgvNlN"
      },
      "id": "h7PKtyQgvNlN"
    },
    {
      "cell_type": "code",
      "source": [
        "num1 = int(input(\"Digite o primeiro número inteiro: \"))\n",
        "num2 = int(input(\"Digite o segundo número inteiro: \"))\n",
        "\n",
        "soma = num1 + num2\n",
        "\n",
        "if soma > 10:\n",
        "    resultado = soma ** 2\n",
        "    print(f\"A soma ({soma}) é maior que 10. O quadrado da soma é: {resultado}\")\n",
        "else:\n",
        "    resultado = soma / 2\n",
        "    print(f\"A soma ({soma}) não é maior que 10. A metade da soma é: {resultado}\")"
      ],
      "metadata": {
        "id": "eGmRmw99vgTG"
      },
      "id": "eGmRmw99vgTG",
      "execution_count": null,
      "outputs": []
    },
    {
      "cell_type": "markdown",
      "source": [
        "10. O sistema de avaliação de determinada disciplina é composto por três provas. A primeira\n",
        "prova tem peso 2, a segunda tem peso 3 e a terceira tem peso 5. Considerando que a\n",
        "média para aprovação é 6.0, faça um algoritmo para calcular a média final de um aluno\n",
        "desta disciplina e dizer se o aluno foi aprovado ou não"
      ],
      "metadata": {
        "id": "0PRkfgjNvlR4"
      },
      "id": "0PRkfgjNvlR4"
    },
    {
      "cell_type": "code",
      "source": [
        "p1 = float(input(\"Digite a nota da Prova 1 (Peso 2): \"))\n",
        "p2 = float(input(\"Digite a nota da Prova 2 (Peso 3): \"))\n",
        "p3 = float(input(\"Digite a nota da Prova 3 (Peso 5): \"))\n",
        "\n",
        "peso_total = 2 + 3 + 5\n",
        "media_final = ((p1 * 2) + (p2 * 3) + (p3 * 5)) / peso_total\n",
        "\n",
        "print(f\"\\nA Média Final do aluno é: {media_final:.2f}\")\n",
        "\n",
        "if media_final >= 6.0:\n",
        "    print(\"Resultado: ALUNO APROVADO!\")\n",
        "else:\n",
        "    print(\"Resultado: ALUNO REPROVADO.\")"
      ],
      "metadata": {
        "id": "njH1G2jSvp7W"
      },
      "id": "njH1G2jSvp7W",
      "execution_count": null,
      "outputs": []
    },
    {
      "cell_type": "markdown",
      "source": [
        "11. Elabore um algoritmo que leia o nome e o peso de duas pessoas e imprima o nome da\n",
        "pessoa mais pesada"
      ],
      "metadata": {
        "id": "nF8h7K7JvysA"
      },
      "id": "nF8h7K7JvysA"
    },
    {
      "cell_type": "code",
      "source": [
        "nome1 = input(\"Digite o nome da primeira pessoa: \")\n",
        "peso1 = float(input(f\"Digite o peso de {nome1} (kg): \"))\n",
        "\n",
        "nome2 = input(\"Digite o nome da segunda pessoa: \")\n",
        "peso2 = float(input(f\"Digite o peso de {nome2} (kg): \"))\n",
        "\n",
        "print(\"\\n--- Resultado ---\")\n",
        "\n",
        "if peso1 > peso2:\n",
        "    print(f\"A pessoa mais pesada é: {nome1} com {peso1:.2f} kg.\")\n",
        "elif peso2 > peso1:\n",
        "    print(f\"A pessoa mais pesada é: {nome2} com {peso2:.2f} kg.\")\n",
        "else:\n",
        "    print(f\"{nome1} e {nome2} têm o mesmo peso: {peso1:.2f} kg.\")"
      ],
      "metadata": {
        "id": "N4P7P26Vv2DY"
      },
      "id": "N4P7P26Vv2DY",
      "execution_count": null,
      "outputs": []
    },
    {
      "cell_type": "markdown",
      "source": [
        "12. Elabore um algoritmo que indique se um número digitado está compreendido entre 20 e\n",
        "90, ou não"
      ],
      "metadata": {
        "id": "yXlC-uQwv9Ci"
      },
      "id": "yXlC-uQwv9Ci"
    },
    {
      "cell_type": "code",
      "source": [
        "numero = float(input(\"Digite um número real: \"))\n",
        "\n",
        "if numero > 20 and numero < 90:\n",
        "    print(f\"O número {numero} ESTÁ compreendido entre 20 e 90 (exclusivo).\")\n",
        "else:\n",
        "    print(f\"O número {numero} NÃO ESTÁ compreendido entre 20 e 90 (exclusivo).\")\n"
      ],
      "metadata": {
        "id": "EBf89JqZwAMU"
      },
      "id": "EBf89JqZwAMU",
      "execution_count": null,
      "outputs": []
    },
    {
      "cell_type": "markdown",
      "source": [
        "13. Elabore um algoritmo que leia dois números e imprima qual é maior, qual é menor, ou se\n",
        "são iguais"
      ],
      "metadata": {
        "id": "lMiLfx3IwWRL"
      },
      "id": "lMiLfx3IwWRL"
    },
    {
      "cell_type": "code",
      "source": [
        "num_a = float(input(\"Digite o primeiro número: \"))\n",
        "num_b = float(input(\"Digite o segundo número: \"))\n",
        "\n",
        "print(\"\\n--- Resultado ---\")\n",
        "\n",
        "if num_a > num_b:\n",
        "    print(f\"O primeiro número ({num_a}) é MAIOR que o segundo ({num_b}).\")\n",
        "    print(f\"O menor é: {num_b}\")\n",
        "elif num_b > num_a:\n",
        "    print(f\"O segundo número ({num_b}) é MAIOR que o primeiro ({num_a}).\")\n",
        "    print(f\"O menor é: {num_a}\")\n",
        "else:\n",
        "    print(f\"Os números são IGUAIS ({num_a}).\")"
      ],
      "metadata": {
        "id": "D5sOn7QjwZBO"
      },
      "id": "D5sOn7QjwZBO",
      "execution_count": null,
      "outputs": []
    },
    {
      "cell_type": "markdown",
      "source": [
        "14. Escreva um programa em linguagem C que solicite ao usuário a média para aprovação\n",
        "em um curso e em seguida solicite ao usuário o nome, sexo e as 03 notas do aluno e ao\n",
        "final imprima a frase: \"O aluno XXXXX foi aprovado com media YY\" considerando o gênero\n",
        "do(a) aluno(a) e se foi aprovado(a) ou reprovado(a)"
      ],
      "metadata": {
        "id": "-qugHIFMwfXF"
      },
      "id": "-qugHIFMwfXF"
    },
    {
      "cell_type": "code",
      "source": [
        "#include <stdio.h>\n",
        "#include <string.h>\n",
        "\n",
        "int main() {\n",
        "    float media_aprovacao;\n",
        "    char nome[50]; // Para armazenar o nome do aluno (máx. 49 caracteres + \\0)\n",
        "    char sexo;     // Para armazenar o sexo ('M' ou 'F')\n",
        "    float nota1, nota2, nota3;\n",
        "    float media_aluno;\n",
        "\n",
        "    printf(\"Digite a media minima para aprovacao no curso: \");\n",
        "    scanf(\"%f\", &media_aprovacao);\n",
        "    while (getchar() != '\\n');\n",
        "\n",
        "    printf(\"Digite o nome do(a) aluno(a): \");\n",
        "    // Usamos fgets para ler a linha inteira, incluindo espaços\n",
        "    fgets(nome, sizeof(nome), stdin);\n",
        "    // Remover o \\n que o fgets adiciona no final da string\n",
        "    if (nome[strlen(nome) - 1] == '\\n') {\n",
        "        nome[strlen(nome) - 1] = '\\0';\n",
        "    }\n",
        "\n",
        "    printf(\"Digite o sexo do(a) aluno(a) (M/F): \");\n",
        "    scanf(\" %c\", &sexo); // Note o espaço antes do %c para ignorar whitespaces\n",
        "\n",
        "    printf(\"Digite a primeira nota: \");\n",
        "    scanf(\"%f\", &nota1);\n",
        "\n",
        "    printf(\"Digite a segunda nota: \");\n",
        "    scanf(\"%f\", &nota2);\n",
        "\n",
        "    printf(\"Digite a terceira nota: \");\n",
        "    scanf(\"%f\", &nota3);\n",
        "\n",
        "    media_aluno = (nota1 + nota2 + nota3) / 3.0;\n",
        "\n",
        "    char *status;\n",
        "    char *genero;\n",
        "\n",
        "    if (media_aluno >= media_aprovacao) {\n",
        "        status = \"aprovad\";\n",
        "    } else {\n",
        "        status = \"reprovad\";\n",
        "    }\n",
        "\n",
        "\n",
        "    if (sexo == 'F' || sexo == 'f') {\n",
        "        genero = \"a\";\n",
        "    } else {\n",
        "        genero = \"o\";\n",
        "    }\n",
        "\n",
        "\n",
        "    printf(\"\\n--- Resultado Final ---\\n\");\n",
        "    printf(\"O(a) aluno(a) %s foi %s%s com media %.2f\\n\",\n",
        "           nome,\n",
        "           status,\n",
        "           genero,\n",
        "           media_aluno);\n",
        "\n",
        "    return 0;\n",
        "}"
      ],
      "metadata": {
        "id": "03XOZ-lwwlwW",
        "outputId": "dcec67b2-a665-4dde-8590-177af4700765",
        "colab": {
          "base_uri": "https://localhost:8080/",
          "height": 106
        }
      },
      "id": "03XOZ-lwwlwW",
      "execution_count": null,
      "outputs": [
        {
          "output_type": "error",
          "ename": "SyntaxError",
          "evalue": "invalid syntax (ipython-input-1262419808.py, line 4)",
          "traceback": [
            "\u001b[0;36m  File \u001b[0;32m\"/tmp/ipython-input-1262419808.py\"\u001b[0;36m, line \u001b[0;32m4\u001b[0m\n\u001b[0;31m    int main() {\u001b[0m\n\u001b[0m        ^\u001b[0m\n\u001b[0;31mSyntaxError\u001b[0m\u001b[0;31m:\u001b[0m invalid syntax\n"
          ]
        }
      ]
    }
  ],
  "metadata": {
    "colab": {
      "provenance": [],
      "include_colab_link": true
    },
    "language_info": {
      "name": "python"
    },
    "kernelspec": {
      "name": "python3",
      "display_name": "Python 3"
    }
  },
  "nbformat": 4,
  "nbformat_minor": 5
}